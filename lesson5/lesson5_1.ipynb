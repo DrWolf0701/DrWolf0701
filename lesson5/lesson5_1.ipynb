{
 "cells": [
  {
   "cell_type": "code",
   "execution_count": 3,
   "metadata": {},
   "outputs": [
    {
     "data": {
      "text/plain": [
       "55"
      ]
     },
     "execution_count": 3,
     "metadata": {},
     "output_type": "execute_result"
    }
   ],
   "source": [
    "total = 0\n",
    "total += 1\n",
    "total += 2\n",
    "total += 3\n",
    "total += 4\n",
    "total += 5\n",
    "total += 6\n",
    "total += 7\n",
    "total += 8\n",
    "total += 9\n",
    "total += 10\n",
    "total"
   ]
  },
  {
   "cell_type": "code",
   "execution_count": 5,
   "metadata": {},
   "outputs": [
    {
     "name": "stdout",
     "output_type": "stream",
     "text": [
      "0\n",
      "1\n",
      "2\n",
      "3\n",
      "4\n",
      "5\n",
      "6\n",
      "7\n",
      "8\n",
      "9\n"
     ]
    }
   ],
   "source": [
    "for i in range(10):\n",
    "    print(i) "
   ]
  },
  {
   "cell_type": "code",
   "execution_count": 9,
   "metadata": {},
   "outputs": [
    {
     "data": {
      "text/plain": [
       "5050"
      ]
     },
     "execution_count": 9,
     "metadata": {},
     "output_type": "execute_result"
    }
   ],
   "source": [
    "total=0\n",
    "for i in range(1,101):\n",
    "    total+=i\n",
    "\n",
    "total"
   ]
  },
  {
   "cell_type": "code",
   "execution_count": 10,
   "metadata": {},
   "outputs": [
    {
     "data": {
      "text/plain": [
       "2500"
      ]
     },
     "execution_count": 10,
     "metadata": {},
     "output_type": "execute_result"
    }
   ],
   "source": [
    "total=0\n",
    "for i in range(1,101,2):\n",
    "    total+=i\n",
    "\n",
    "total"
   ]
  },
  {
   "cell_type": "code",
   "execution_count": 12,
   "metadata": {},
   "outputs": [
    {
     "name": "stdout",
     "output_type": "stream",
     "text": [
      "r\n",
      "o\n",
      "b\n",
      "e\n",
      "r\n",
      "t\n"
     ]
    }
   ],
   "source": [
    "for i in'robert':\n",
    "    print(i)"
   ]
  },
  {
   "cell_type": "code",
   "execution_count": 2,
   "metadata": {},
   "outputs": [
    {
     "name": "stdout",
     "output_type": "stream",
     "text": [
      "輸入格式錯誤\n",
      "輸入格式錯誤\n",
      "身高=155,體重=55\n",
      "BMI=22.892819979188342\n",
      "正常範圍\n",
      "程式結束\n"
     ]
    }
   ],
   "source": [
    "while True:\n",
    "    kg=0  #清除變數\n",
    "    cm=0  #清除變數\n",
    "    while True:\n",
    "        try:    \n",
    "            cm = int(input(\"請輸入身高(公分):\"))\n",
    "            if cm > 300:\n",
    "                    raise Exception(\"超過300公分\")\n",
    "            break\n",
    "        except ValueError:\n",
    "            print('輸入格式錯誤')\n",
    "            continue\n",
    "        except Exception as e:\n",
    "            print(f'輸入錯誤{cm}')\n",
    "            continue\n",
    "\n",
    "    while True:\n",
    "        try:    \n",
    "            kg = int(input(\"請輸入體重(公斤):\"))\n",
    "            if kg > 300:\n",
    "                raise Exception(\"超過300公分\")\n",
    "            break\n",
    "        except ValueError:\n",
    "            print('輸入格式錯誤')\n",
    "            continue\n",
    "        except Exception as e:\n",
    "            print(f'輸入錯誤{kg}')\n",
    "            continue\n",
    "\n",
    "    print(f'身高={cm},體重={kg}')\n",
    "    cm=(cm/100)*(cm/100)\n",
    "    BMI=kg/cm\n",
    "    print(f'BMI={BMI}')\n",
    "    if BMI >=35:\n",
    "        print(\"重度肥胖：BMI≧35\")\n",
    "    elif BMI >=30:\n",
    "        print(\"中度肥胖：30≦BMI\")\n",
    "    elif BMI >=27:\n",
    "        print(\"輕度肥胖：27≦BMI\")\n",
    "    elif BMI >=24:\n",
    "        print(\"過重\")\n",
    "    elif BMI >=18.5:\n",
    "        print(\"正常範圍\")\n",
    "    else:\n",
    "        print(\"體重過輕\")\n",
    "    \n",
    "    play_again = input(\"還要繼續嗎?(y,n)\")\n",
    "    if play_again == \"n\":\n",
    "        break\n",
    "print('程式結束')"
   ]
  },
  {
   "cell_type": "code",
   "execution_count": 4,
   "metadata": {},
   "outputs": [
    {
     "name": "stdout",
     "output_type": "stream",
     "text": [
      "身高=177,體重=65\n",
      "BMI=20.747550193111813\n",
      "正常範圍\n",
      "身高=177,體重=65\n",
      "BMI=20.747550193111813\n",
      "正常範圍\n",
      "程式結束\n"
     ]
    }
   ],
   "source": [
    "def input_data(): #產生記憶體區塊，執行完就消失(結束前要傳回主程式，不然會被消滅)\n",
    "    # pass #每一個程式區塊一定要有一行\n",
    "    while True:\n",
    "        try:    \n",
    "            cm = int(input(\"請輸入身高(公分):\"))\n",
    "            if cm > 300:\n",
    "                    raise Exception(\"超過300公分\")\n",
    "            break\n",
    "        except ValueError:\n",
    "            print('輸入格式錯誤')\n",
    "            continue\n",
    "        except Exception as e:\n",
    "            print(f'輸入錯誤{cm}')\n",
    "            continue\n",
    "\n",
    "    while True:\n",
    "        try:    \n",
    "            kg = int(input(\"請輸入體重(公斤):\"))\n",
    "            if kg > 300:\n",
    "                raise Exception(\"超過300公分\")\n",
    "            break\n",
    "        except ValueError:\n",
    "            print('輸入格式錯誤')\n",
    "            continue\n",
    "        except Exception as e:\n",
    "            print(f'輸入錯誤{kg}')\n",
    "            continue\n",
    "    return (cm,kg) #return在function裡面代表會傳出東西\n",
    "\n",
    "\n",
    "while True:\n",
    "    kg=0  #清除變數\n",
    "    cm=0  #清除變數\n",
    "    \n",
    "    cm, kg = input_data() #呼叫function, 且必須接收function傳出的東西(二邊的cm, kg是在不一樣的記憶體中)\n",
    "\n",
    "    print(f'身高={cm},體重={kg}')\n",
    "    cm=(cm/100)*(cm/100)\n",
    "    BMI=kg/cm\n",
    "    print(f'BMI={BMI}')\n",
    "    if BMI >=35:\n",
    "        print(\"重度肥胖：BMI≧35\")\n",
    "    elif BMI >=30:\n",
    "        print(\"中度肥胖：30≦BMI\")\n",
    "    elif BMI >=27:\n",
    "        print(\"輕度肥胖：27≦BMI\")\n",
    "    elif BMI >=24:\n",
    "        print(\"過重\")\n",
    "    elif BMI >=18.5:\n",
    "        print(\"正常範圍\")\n",
    "    else:\n",
    "        print(\"體重過輕\")\n",
    "    \n",
    "    play_again = input(\"還要繼續嗎?(y,n)\")\n",
    "    if play_again == \"n\":\n",
    "        break\n",
    "print('程式結束')"
   ]
  }
 ],
 "metadata": {
  "kernelspec": {
   "display_name": "venv1",
   "language": "python",
   "name": "python3"
  },
  "language_info": {
   "codemirror_mode": {
    "name": "ipython",
    "version": 3
   },
   "file_extension": ".py",
   "mimetype": "text/x-python",
   "name": "python",
   "nbconvert_exporter": "python",
   "pygments_lexer": "ipython3",
   "version": "3.10.14"
  }
 },
 "nbformat": 4,
 "nbformat_minor": 2
}
