{
 "cells": [
  {
   "cell_type": "code",
   "execution_count": null,
   "metadata": {},
   "outputs": [],
   "source": [
    "try:  \n",
    "    weight = int(input(\"請輸入體重（公斤）：\"))\n",
    "    height = int(input(\"請輸入身高（公分）：\"))\n",
    "\n",
    "    bmi = weight / ((height/100) ** 2)\n",
    "\n",
    "    print(f\"BMI是：{bmi:.2f}\")\n",
    "\n",
    "    if bmi < 18.5:\n",
    "        print(\"體重過輕\")\n",
    "    elif 18.5 <= bmi < 24:\n",
    "        print(\"正常範圍\")\n",
    "    elif 24 <= bmi < 27:\n",
    "        print(\"過重\")\n",
    "    elif 27 <= bmi < 30:\n",
    "        print(\"輕度肥胖\")\n",
    "    elif 30 <= bmi < 35:\n",
    "        print(\"中度肥胖\")\n",
    "    else:\n",
    "        print(\"重度肥胖\")\n",
    "\n",
    "\n",
    "except ValueError:\n",
    "    print(\"輸入格式有錯\")\n",
    "\n",
    "except Exception as e:\n",
    "    print(f'錯誤訊息:{e}')\n",
    "\n",
    "print(\"應用程式結束\")"
   ]
  }
 ],
 "metadata": {
  "language_info": {
   "name": "python"
  }
 },
 "nbformat": 4,
 "nbformat_minor": 2
}
