{
 "cells": [
  {
   "cell_type": "code",
   "execution_count": 8,
   "metadata": {},
   "outputs": [],
   "source": [
    "#建一個目錄data專門儲存資料\n",
    "import os\n",
    "os.path.abspath('__name__') #絕對路徑\n",
    "os.path.realpath('__file__') #絕對路徑\n",
    "root_dir = os.getcwd()\n",
    "data_dir = os.path.join(root_dir, 'data')\n",
    "data_dir\n",
    "if not os.path.isdir(data_dir): #檢查這個路徑有沒有資料夾\n",
    "    os.mkdir('data')\n",
    "    \n",
    "    \n",
    "\n",
    "\n"
   ]
  },
  {
   "cell_type": "code",
   "execution_count": 12,
   "metadata": {},
   "outputs": [
    {
     "data": {
      "text/plain": [
       "'c:\\\\Users\\\\User\\\\Documents\\\\GitHub\\\\DrWolf0701\\\\lesson13\\\\computer\\\\data\\\\2024-10-12.csv'"
      ]
     },
     "execution_count": 12,
     "metadata": {},
     "output_type": "execute_result"
    }
   ],
   "source": [
    "from datetime import datetime\n",
    "today = datetime.today()\n",
    "filename = today.strftime('%Y-%m-%d') + \".csv\" #字串+字串\n",
    "#get_file_abspath\n",
    "full_path = os.path.join(data_dir, filename)\n",
    "full_path"
   ]
  },
  {
   "cell_type": "code",
   "execution_count": 23,
   "metadata": {},
   "outputs": [
    {
     "name": "stdout",
     "output_type": "stream",
     "text": [
      "沒有這個檔案\n"
     ]
    }
   ],
   "source": [
    "if not os.path.exists(full_path):\n",
    "    #沒有這個檔,建立檔案\n",
    "    print(\"沒有這個檔案\")\n",
    "    with open(full_path, mode='w',encoding='utf-8',newline='') as file:\n",
    "    #file.close() #一定要close, 除非用 with open() as \n",
    "         file.write('時間,設備,值\\n')\n"
   ]
  }
 ],
 "metadata": {
  "kernelspec": {
   "display_name": "venv1",
   "language": "python",
   "name": "python3"
  },
  "language_info": {
   "codemirror_mode": {
    "name": "ipython",
    "version": 3
   },
   "file_extension": ".py",
   "mimetype": "text/x-python",
   "name": "python",
   "nbconvert_exporter": "python",
   "pygments_lexer": "ipython3",
   "version": "3.11.10"
  }
 },
 "nbformat": 4,
 "nbformat_minor": 2
}
