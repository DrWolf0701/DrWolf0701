{
 "cells": [
  {
   "cell_type": "code",
   "execution_count": 2,
   "metadata": {},
   "outputs": [
    {
     "name": "stdout",
     "output_type": "stream",
     "text": [
      "不可以考駕照\n",
      "應用程式結束\n"
     ]
    }
   ],
   "source": [
    "#if\n",
    "age = 17\n",
    "if age <18:\n",
    "    print(\"不可以考駕照\")\n",
    "else:\n",
    "    print(\"可以考駕照\")\n",
    "print(\"應用程式結束\")"
   ]
  },
  {
   "cell_type": "code",
   "execution_count": 14,
   "metadata": {},
   "outputs": [
    {
     "name": "stdout",
     "output_type": "stream",
     "text": [
      "不知名的錯誤\n",
      "應用程式結束\n"
     ]
    }
   ],
   "source": [
    "#學生總分為300分\n",
    "#有些學生可加分5%\n",
    "#如果加分超過300,就以300為準\n",
    "#手動raise Exception\n",
    "\n",
    "try:\n",
    "    score = int(input(\"請輸入學生分數(最高300分):\"))\n",
    "    # raise NameError #跳到Exception\n",
    "except ValueError:\n",
    "    print(\"輸入格式有錯\")\n",
    "except Exception: #如果有不止一個except, Exception一定是寫在最底下\n",
    "    print(\"不知名的錯誤\")\n",
    "else:\n",
    "    is_add = input(\"學生是否符合加分條件?(y,n)\")\n",
    "\n",
    "    if is_add == 'y':\n",
    "        score *= 1.05\n",
    "        if score > 300: #巢狀判斷 if裡面又有if\n",
    "            score = 300\n",
    "        \n",
    "    #print('學生分數是' + str(score))   #方法一\n",
    "    print(f'學生分數是{score}')         #字串插補f{} =>較簡潔\n",
    "print(\"應用程式結束\")"
   ]
  },
  {
   "cell_type": "code",
   "execution_count": 17,
   "metadata": {},
   "outputs": [
    {
     "name": "stdout",
     "output_type": "stream",
     "text": [
      "錯誤訊息:輸入分數不可以超過300分\n",
      "應用程式結束\n"
     ]
    }
   ],
   "source": [
    "#學生總分為300分\n",
    "#有些學生可加分5%\n",
    "#如果加分超過300,就以300為準\n",
    "#手動raise Exception\n",
    "\n",
    "try:\n",
    "    score = int(input(\"請輸入學生分數(最高300分):\"))\n",
    "    if score > 300: #巢狀判斷 if裡面又有if\n",
    "       raise Exception(\"輸入分數不可以超過300分\")\n",
    "\n",
    "    is_add = input(\"學生是否符合加分條件?(y,n)\")\n",
    "\n",
    "    if is_add == 'y':\n",
    "        score *= 1.05\n",
    "        if score > 300:\n",
    "           score = 300\n",
    "              \n",
    "    #print('學生分數是' + str(score))   #方法一\n",
    "    print(f'學生分數是{score}')         #字串插補f{} =>較簡潔\n",
    "\n",
    "except ValueError:\n",
    "    print(\"輸入格式有錯\")\n",
    "except Exception as e: #如果有不止一個except, Exception一定是寫在最底下\n",
    "    print(f'錯誤訊息:{e}')\n",
    "\n",
    "print(\"應用程式結束\")"
   ]
  },
  {
   "cell_type": "code",
   "execution_count": 22,
   "metadata": {},
   "outputs": [
    {
     "name": "stdout",
     "output_type": "stream",
     "text": [
      ">=80,<90\n"
     ]
    }
   ],
   "source": [
    "#雙向或多段選擇(不好的寫法else裡面又有if可用elseif)\n",
    "value = 85\n",
    "if value >=90:\n",
    "    print(\"90以上的區段\")\n",
    "else:\n",
    "    if value >=80: \n",
    "        print(\">=80,<90\")\n",
    "    else:\n",
    "        print(\"<80的區段\")"
   ]
  },
  {
   "cell_type": "code",
   "execution_count": 28,
   "metadata": {},
   "outputs": [
    {
     "name": "stdout",
     "output_type": "stream",
     "text": [
      ">=60,<70\n"
     ]
    }
   ],
   "source": [
    "#雙向或多向選擇(elif寫法)\n",
    "value = 65\n",
    "if value >=90:\n",
    "    print(\"90以上的區段\")\n",
    "elif value >=80:\n",
    "    print(\">=80,<90\")\n",
    "elif value >=70:\n",
    "    print(\">=70,<80\")\n",
    "elif value >=60:\n",
    "    print(\">=60,<70\")\n",
    "else:\n",
    "    print(\"<60的區段\")"
   ]
  }
 ],
 "metadata": {
  "kernelspec": {
   "display_name": "venv1",
   "language": "python",
   "name": "python3"
  },
  "language_info": {
   "codemirror_mode": {
    "name": "ipython",
    "version": 3
   },
   "file_extension": ".py",
   "mimetype": "text/x-python",
   "name": "python",
   "nbconvert_exporter": "python",
   "pygments_lexer": "ipython3",
   "version": "3.11.9"
  }
 },
 "nbformat": 4,
 "nbformat_minor": 2
}
